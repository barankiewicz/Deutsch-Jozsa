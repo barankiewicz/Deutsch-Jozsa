{
 "cells": [
  {
   "cell_type": "markdown",
   "id": "8cf2d932-00ff-4973-bd84-ea0ade62abfd",
   "metadata": {},
   "source": [
    "# Implementacja algorytmu Deutscha-Jozsy\n",
    "\n",
    "## Alicja Barankiewicz\n"
   ]
  },
  {
   "cell_type": "markdown",
   "id": "7ed824be-d79e-44ec-a726-22499e1591e9",
   "metadata": {},
   "source": [
    "Implentacja korzysta z biblioteki do obliczeń kwantowych `qiskit`. Najpierw należy ją zaimportować..."
   ]
  },
  {
   "cell_type": "code",
   "execution_count": 9,
   "id": "a4db1aae-0e6d-4f03-8db5-d6715c42297d",
   "metadata": {},
   "outputs": [],
   "source": [
    "# zaimportuj Qiskit\n",
    "from qiskit import IBMQ, Aer\n",
    "from qiskit.providers.ibmq import least_busy\n",
    "from qiskit import QuantumCircuit, assemble, transpile\n",
    "\n",
    "# zaimportuj narzędzie Qiskit do wizualizacji\n",
    "from qiskit.visualization import plot_histogram\n",
    "\n",
    "# initialization\n",
    "import numpy as np"
   ]
  },
  {
   "cell_type": "markdown",
   "id": "25e9deb9-d277-4d0f-9585-119bba96dc9d",
   "metadata": {},
   "source": [
    "# Parametry"
   ]
  },
  {
   "cell_type": "code",
   "execution_count": 7,
   "id": "14309654-5ae9-4d34-a8ca-71c1df3f6868",
   "metadata": {},
   "outputs": [],
   "source": [
    "qn = 4 #Liczba kubitów\n",
    "balanced_function = True #Wybór funkcji stałej lub zbalansowanej"
   ]
  },
  {
   "cell_type": "markdown",
   "id": "0e8b98e0-0262-447b-86e0-846fe3cb946b",
   "metadata": {},
   "source": [
    "# Utworzenie wyroczni implementującej funkcję zbalansowaną lub stałą"
   ]
  },
  {
   "cell_type": "code",
   "execution_count": 10,
   "id": "545672cd-ef2c-4910-923b-acf9331ed8c8",
   "metadata": {},
   "outputs": [],
   "source": [
    "def generate_oracle(balanced, n):\n",
    "    oracle_qc = QuantumCircuit(n+1)\n",
    "    \n",
    "    if balanced == True:\n",
    "        # Wygeneruj losowy ciąg bitów, żeby określić, na których kubitach użyć bramki X\n",
    "        if n <= 10:\n",
    "            pot = n\n",
    "        else:\n",
    "            pot = 16  \n",
    "        b = np.random.randint(1,2**pot)\n",
    "        b_str = format(b, '0'+str(n)+'b')\n",
    "        \n",
    "        #Iteracja przez ciąg bitów; jeżeli znak to 0 - nie rób nic, jeżeli 1 - użyj bramki X\n",
    "        for qubit in range(len(b_str)):\n",
    "            if b_str[qubit] == '1':\n",
    "                oracle_qc.x(qubit)\n",
    "\n",
    "        #Zbalansowanie wyroczni poprzez zastosowanie bramek CNOT\n",
    "        for qubit in range(n):\n",
    "            oracle_qc.cx(qubit, n)\n",
    "            \n",
    "        # Powtórzenie bramek X\n",
    "        for qubit in range(len(b_str)):\n",
    "            if b_str[qubit] == '1':\n",
    "                oracle_qc.x(qubit)\n",
    "\n",
    "    if balanced == False:\n",
    "        #Najpierw losowy generujemy 0 lub 1, następnie tworzymy wyrocznię, która zwraca jedynie wygenerowaną liczbę\n",
    "        output = np.random.randint(2)\n",
    "        if output == 1:\n",
    "            oracle_qc.x(n)\n",
    "    \n",
    "    oracle_gate = oracle_qc.to_gate()\n",
    "    oracle_gate.name = \"Wyrocznia Uf\" # To show when we display the circuit\n",
    "    return oracle_gate\n",
    "    "
   ]
  },
  {
   "cell_type": "markdown",
   "id": "16207d97-e2eb-4fb2-9c34-7d62267160ad",
   "metadata": {
    "tags": []
   },
   "source": [
    "# Algorytm Deutscha-Jozsy"
   ]
  },
  {
   "cell_type": "code",
   "execution_count": 5,
   "id": "e0758ec4-00cd-4757-b653-428c54720db8",
   "metadata": {},
   "outputs": [],
   "source": [
    "def deutsch_jozsa(oracle):\n",
    "    # W wyroczni jest jeden kubit więcej, niż znaków wejściowych funkcji f\n",
    "    n = oracle.num_qubits - 1; \n",
    "    \n",
    "    #Utworzenie obwodu kwantowego\n",
    "    final_circuit = QuantumCircuit(n+1, n)\n",
    "    \n",
    "    # Krok 1:\n",
    "    final_circuit.x(n)\n",
    "    final_circuit.h(n)\n",
    "    for qubit in range(n):\n",
    "        final_circuit.h(qubit)\n",
    "        \n",
    "    # Krok 2:\n",
    "    final_circuit.append(oracle, range(n+1))\n",
    "    \n",
    "    # Krok 3:\n",
    "    for qubit in range(n):\n",
    "        final_circuit.h(qubit)\n",
    "        \n",
    "    # Krok 4:\n",
    "    for i in range(n):\n",
    "        final_circuit.measure(i, i)\n",
    "    \n",
    "    return final_circuit"
   ]
  },
  {
   "cell_type": "markdown",
   "id": "d45e597f-2f45-48be-b9b4-d2cd6b9549cf",
   "metadata": {},
   "source": [
    "# Wizualizacja obwodu algorytmu Deutscha-Jozsy"
   ]
  },
  {
   "cell_type": "code",
   "execution_count": 11,
   "id": "369da5a7-dbd7-421a-b977-86504e6b2f7d",
   "metadata": {},
   "outputs": [
    {
     "data": {
      "text/html": [
       "<pre style=\"word-wrap: normal;white-space: pre;background: #fff0;line-height: 1.1;font-family: &quot;Courier New&quot;,Courier,monospace\">     ┌───┐     ┌───────────────┐┌───┐┌─┐         \n",
       "q_0: ┤ H ├─────┤0              ├┤ H ├┤M├─────────\n",
       "     ├───┤     │               │├───┤└╥┘┌─┐      \n",
       "q_1: ┤ H ├─────┤1              ├┤ H ├─╫─┤M├──────\n",
       "     ├───┤     │               │├───┤ ║ └╥┘┌─┐   \n",
       "q_2: ┤ H ├─────┤2 Wyrocznia Uf ├┤ H ├─╫──╫─┤M├───\n",
       "     ├───┤     │               │├───┤ ║  ║ └╥┘┌─┐\n",
       "q_3: ┤ H ├─────┤3              ├┤ H ├─╫──╫──╫─┤M├\n",
       "     ├───┤┌───┐│               │└───┘ ║  ║  ║ └╥┘\n",
       "q_4: ┤ X ├┤ H ├┤4              ├──────╫──╫──╫──╫─\n",
       "     └───┘└───┘└───────────────┘      ║  ║  ║  ║ \n",
       "c: 4/═════════════════════════════════╩══╩══╩══╩═\n",
       "                                      0  1  2  3 </pre>"
      ],
      "text/plain": [
       "     ┌───┐     ┌───────────────┐┌───┐┌─┐         \n",
       "q_0: ┤ H ├─────┤0              ├┤ H ├┤M├─────────\n",
       "     ├───┤     │               │├───┤└╥┘┌─┐      \n",
       "q_1: ┤ H ├─────┤1              ├┤ H ├─╫─┤M├──────\n",
       "     ├───┤     │               │├───┤ ║ └╥┘┌─┐   \n",
       "q_2: ┤ H ├─────┤2 Wyrocznia Uf ├┤ H ├─╫──╫─┤M├───\n",
       "     ├───┤     │               │├───┤ ║  ║ └╥┘┌─┐\n",
       "q_3: ┤ H ├─────┤3              ├┤ H ├─╫──╫──╫─┤M├\n",
       "     ├───┤┌───┐│               │└───┘ ║  ║  ║ └╥┘\n",
       "q_4: ┤ X ├┤ H ├┤4              ├──────╫──╫──╫──╫─\n",
       "     └───┘└───┘└───────────────┘      ║  ║  ║  ║ \n",
       "c: 4/═════════════════════════════════╩══╩══╩══╩═\n",
       "                                      0  1  2  3 "
      ]
     },
     "execution_count": 11,
     "metadata": {},
     "output_type": "execute_result"
    }
   ],
   "source": [
    "oracle_gate = generate_oracle(balanced_function, qn)\n",
    "circuit = deutsch_jozsa(oracle_gate)\n",
    "circuit.draw()"
   ]
  },
  {
   "cell_type": "markdown",
   "id": "5cb60fc5-31a1-4c40-ae8a-3c34c410d936",
   "metadata": {},
   "source": [
    "# Wynik algorytmu w symulatorze kwantowym"
   ]
  },
  {
   "cell_type": "code",
   "execution_count": 12,
   "id": "ac76734f-351e-49bc-b4e9-89d5edaa1356",
   "metadata": {},
   "outputs": [
    {
     "data": {
      "image/png": "[encoded data removed]",
      "text/plain": [
       "<Figure size 504x360 with 1 Axes>"
      ]
     },
     "execution_count": 12,
     "metadata": {},
     "output_type": "execute_result"
    }
   ],
   "source": [
    "aer_sim = Aer.get_backend('aer_simulator')\n",
    "transpiled_circuit = transpile(circuit, aer_sim)\n",
    "qobj = assemble(transpiled_circuit)\n",
    "results = aer_sim.run(qobj).result()\n",
    "answer = results.get_counts()\n",
    "plot_histogram(answer)"
   ]
  },
  {
   "cell_type": "markdown",
   "id": "572e9535-ed0f-4eca-9436-3be75b78fe68",
   "metadata": {
    "tags": []
   },
   "source": [
    "Na wyjściu algorytmu wartość '0' oznacza, że funkcja jest stała, '1' - że jest zbalansowana"
   ]
  },
  {
   "cell_type": "markdown",
   "id": "675b94ff-c9be-4eb6-873d-e8928a1018d3",
   "metadata": {
    "tags": []
   },
   "source": [
    "# Wykonanie na procesorze kwantowym\n",
    "\n",
    "Najpierw należy pobrać nazwę procesora, który jest aktualnie najmniej zajęty:"
   ]
  },
  {
   "cell_type": "markdown",
   "id": "ef450b71-2a80-4823-914f-08b3639feab1",
   "metadata": {},
   "source": [
    "#### UWAGA 1: Aby wykonać kod na rzeczywistym procesorze kwantowym, należy najpierw zachować token API IBM Quantum Lab za pomocą funkcji IBMQ.save_account(TOKEN)\n",
    "#### UWAGA 2: Niekomercyjny procesor kwantowy IBM Quantum Lab obsługuje długość wejścia qn <= 4"
   ]
  },
  {
   "cell_type": "code",
   "execution_count": 13,
   "id": "fe303142-2e98-4acc-8108-280e6795b6d5",
   "metadata": {},
   "outputs": [
    {
     "name": "stdout",
     "output_type": "stream",
     "text": [
      "Najmniej zajęty procesor:  ibmq_quito\n"
     ]
    }
   ],
   "source": [
    "#IBMQ.save_account('')\n",
    "IBMQ.load_account()\n",
    "provider = IBMQ.get_provider(hub='ibm-q')\n",
    "backend = least_busy(provider.backends(filters=lambda x: x.configuration().n_qubits >= (qn+1) and\n",
    "                                   not x.configuration().simulator and x.status().operational==True))\n",
    "print(\"Najmniej zajęty procesor: \", backend)"
   ]
  },
  {
   "cell_type": "markdown",
   "id": "99a2ee9f-e745-495a-8cc2-85e8423f444e",
   "metadata": {},
   "source": [
    "Po znalezieniu procesora, można wykonać na nim algorytm:"
   ]
  },
  {
   "cell_type": "code",
   "execution_count": 14,
   "id": "d2396766-246e-44b2-a630-27993470cde1",
   "metadata": {},
   "outputs": [
    {
     "name": "stdout",
     "output_type": "stream",
     "text": [
      "Job Status: job has successfully run\n"
     ]
    }
   ],
   "source": [
    "# Run our circuit on the least busy backend. Monitor the execution of the job in the queue\n",
    "from qiskit.tools.monitor import job_monitor\n",
    "\n",
    "transpiled_circuit = transpile(circuit, backend, optimization_level=3)\n",
    "job = backend.run(transpiled_circuit)\n",
    "job_monitor(job, interval=2)"
   ]
  },
  {
   "cell_type": "markdown",
   "id": "48fc25f8-aa40-4d6d-b9cd-12f28946bda3",
   "metadata": {},
   "source": [
    "Oraz wyświetlić wyniki:"
   ]
  },
  {
   "cell_type": "code",
   "execution_count": 15,
   "id": "121e7a65-055a-4ca4-9947-45fd89ba33d1",
   "metadata": {},
   "outputs": [
    {
     "data": {
      "image/png": "[encoded data removed]",
      "text/plain": [
       "<Figure size 504x360 with 1 Axes>"
      ]
     },
     "execution_count": 15,
     "metadata": {},
     "output_type": "execute_result"
    }
   ],
   "source": [
    "# Get the results of the computation\n",
    "results = job.result()\n",
    "answer = results.get_counts()\n",
    "\n",
    "plot_histogram(answer)"
   ]
  },
  {
   "cell_type": "markdown",
   "id": "78440ba4-7543-45b8-95ec-bac8c8f29a21",
   "metadata": {},
   "source": [
    "Jak widać, największe prawdopodobieństwo przypada na wynik 0...0 - wskazujący, że funkcja jest stała, lub 1...1 - wskazujący, że funkcja jest zbalansowana. Pozostałe szczątkowe prawdopodobieństwa wynikają z szumu informacyjnego występującego w procesorach kwantowych."
   ]
  }
 ],
 "metadata": {
  "kernelspec": {
   "display_name": "Python 3 (ipykernel)",
   "language": "python",
   "name": "python3"
  },
  "language_info": {
   "codemirror_mode": {
    "name": "ipython",
    "version": 3
   },
   "file_extension": ".py",
   "mimetype": "text/x-python",
   "name": "python",
   "nbconvert_exporter": "python",
   "pygments_lexer": "ipython3",
   "version": "3.10.4"
  }
 },
 "nbformat": 4,
 "nbformat_minor": 5
}
